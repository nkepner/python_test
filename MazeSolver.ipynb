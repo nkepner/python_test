{
 "cells": [
  {
   "cell_type": "code",
   "execution_count": 1,
   "id": "3c9ee284-743a-4739-95cc-5b100647b62d",
   "metadata": {},
   "outputs": [
    {
     "data": {
      "text/plain": [
       "'/Users/nancy/Desktop/Github/py_examples/turtle'"
      ]
     },
     "execution_count": 1,
     "metadata": {},
     "output_type": "execute_result"
    }
   ],
   "source": [
    "import numpy as np\n",
    "import os\n",
    "os.getcwd()"
   ]
  },
  {
   "cell_type": "code",
   "execution_count": 3,
   "id": "dc260423-b5ef-40e8-8d77-8d6caa594fa4",
   "metadata": {},
   "outputs": [],
   "source": [
    "maze = np.loadtxt('output.csv', delimiter = \",\")"
   ]
  },
  {
   "cell_type": "code",
   "execution_count": 5,
   "id": "d41978f8-f0a9-4228-a43b-d3b17988f10e",
   "metadata": {},
   "outputs": [
    {
     "data": {
      "text/plain": [
       "array([[ 0.,  0.,  0.,  0.,  0.,  0.,  0.,  0.,  0.,  0.,  0.,  0.,  0.],\n",
       "       [ 0., -1., -1., -1., -1., -1., -1., -1.,  0., -1.,  0., -1.,  0.],\n",
       "       [ 0., -1.,  0.,  0.,  0., -1.,  0.,  0.,  0., -1.,  0., -1.,  0.],\n",
       "       [-1., -1.,  0., -1.,  0., -1.,  0., -1., -1., -1.,  0., -1.,  0.],\n",
       "       [ 0., -1.,  0., -1.,  0., -1.,  0.,  0.,  0., -1.,  0., -1.,  0.],\n",
       "       [ 0., -1.,  0., -1.,  0., -1.,  0., -1.,  0., -1.,  0., -1., -1.],\n",
       "       [ 0.,  0.,  0., -1.,  0.,  0.,  0., -1.,  0., -1.,  0.,  0.,  0.],\n",
       "       [ 0., -1., -1., -1., -1., -1., -1., -1., -1., -1., -1., -1.,  0.],\n",
       "       [ 0.,  0.,  0., -1.,  0.,  0.,  0., -1.,  0.,  0.,  0.,  0.,  0.],\n",
       "       [ 0., -1., -1., -1.,  0., -1.,  0., -1.,  0., -1., -1., -1., -1.],\n",
       "       [ 0.,  0.,  0., -1.,  0., -1.,  0., -1.,  0.,  0.,  0., -1.,  0.],\n",
       "       [-1., -1.,  0., -1.,  0., -1., -1., -1., -1., -1.,  0., -1.,  0.],\n",
       "       [ 0.,  0.,  0., -1.,  0.,  0.,  0.,  0.,  0.,  0.,  0.,  0.,  0.]])"
      ]
     },
     "execution_count": 5,
     "metadata": {},
     "output_type": "execute_result"
    }
   ],
   "source": [
    "maze"
   ]
  },
  {
   "cell_type": "code",
   "execution_count": 7,
   "id": "bba9e2f8-e9dd-452b-a1d5-d24eb7767d45",
   "metadata": {},
   "outputs": [
    {
     "data": {
      "text/plain": [
       "[array([0, 1]), array([ 0, -1]), array([-1,  0]), array([1, 0])]"
      ]
     },
     "execution_count": 7,
     "metadata": {},
     "output_type": "execute_result"
    }
   ],
   "source": [
    "#a function that returns indexes of all 4 directions\n",
    "    #filtered by positions that are in the maze\n",
    "    #filtered by positions that have not been visited\n",
    "\n",
    "\n",
    "# def possible_moves(pos, maze):\n",
    "\n",
    "def four_directions():\n",
    "    move_right = (0, 1)\n",
    "    move_left = (0, -1) \n",
    "    move_up = (-1, 0) \n",
    "    move_down = (1, 0)\n",
    "    dirs = [move_right, move_left, move_up, move_down]\n",
    "    new_moves = []\n",
    "    for dir in dirs: \n",
    "        new_moves.append(np.array(dir))\n",
    "    return new_moves\n",
    "    \n",
    "four_directions()"
   ]
  },
  {
   "cell_type": "code",
   "execution_count": 9,
   "id": "346ca8bb-079f-4cb7-8c99-219822d905ce",
   "metadata": {},
   "outputs": [],
   "source": [
    "#list of directions that are within maze\n",
    "def legal_moves(maze, pos):\n",
    "    moves = four_directions()\n",
    "    valid_pos = []\n",
    "    for move in moves:\n",
    "        move_to = pos + move\n",
    "        if is_valid(move_to, maze):\n",
    "            valid_pos.append(move_to)\n",
    "    return valid_pos"
   ]
  },
  {
   "cell_type": "code",
   "execution_count": 11,
   "id": "187853b9-348a-4d41-983d-0e12f799a5d5",
   "metadata": {},
   "outputs": [],
   "source": [
    "def is_valid(move_to, maze):\n",
    "        if move_to[0] < maze.shape[0] and \\\n",
    "            move_to[0] >= 0 and \\\n",
    "            move_to[1] < maze.shape[1] and \\\n",
    "            move_to[1] >= 0:\n",
    "            return True\n",
    "        else:\n",
    "            return False"
   ]
  },
  {
   "cell_type": "code",
   "execution_count": 13,
   "id": "464592b6-e36a-4b4a-bd56-a960b8329ed5",
   "metadata": {},
   "outputs": [],
   "source": [
    "def next_moves(maze, current_pos):\n",
    "    positions = legal_moves(maze, current_pos)\n",
    "    unblocked = []\n",
    "    for pos in positions:\n",
    "        r, c = tuple(pos)\n",
    "        if maze[r, c] == 0:\n",
    "            unblocked.append(pos)\n",
    "    return unblocked"
   ]
  },
  {
   "cell_type": "code",
   "execution_count": 17,
   "id": "19f74bb5-a718-4c63-b5fb-a1f612b878f9",
   "metadata": {},
   "outputs": [],
   "source": [
    "def search(maze):\n",
    "    #current level nodes = list of positions which are 2 element arrays\n",
    "    #next level nodes = list of positions\n",
    "    #current level = int\n",
    "    current_level = 1\n",
    "    initial_position = np.array((0, 0))\n",
    "    current_level_nodes = [initial_position]\n",
    "    # next_level_nodes = []\n",
    "    # outerloop runs through all the levels\n",
    "    while True:\n",
    "        print('start of outer loop')\n",
    "        #the innerloop processes the nodes at the current level.\n",
    "        next_level_nodes = []\n",
    "        for node in current_level_nodes:\n",
    "            print(f'current node is {node}')\n",
    "            r, c = tuple(node)\n",
    "            maze[r, c] = current_level\n",
    "            positions = next_moves(maze, node)\n",
    "            for position in positions:\n",
    "                next_level_nodes.append(position)\n",
    "        current_level = current_level + 1\n",
    "        if len(next_level_nodes) == 0:\n",
    "            break\n",
    "        else:\n",
    "            current_level_nodes = next_level_nodes"
   ]
  },
  {
   "cell_type": "code",
   "execution_count": 19,
   "id": "9799707d-8e18-450b-9872-0dab9c74dff9",
   "metadata": {},
   "outputs": [
    {
     "name": "stdout",
     "output_type": "stream",
     "text": [
      "start of outer loop\n",
      "current node is [0 0]\n",
      "start of outer loop\n",
      "current node is [0 1]\n",
      "current node is [1 0]\n",
      "start of outer loop\n",
      "current node is [0 2]\n",
      "current node is [2 0]\n",
      "start of outer loop\n",
      "current node is [0 3]\n",
      "start of outer loop\n",
      "current node is [0 4]\n",
      "start of outer loop\n",
      "current node is [0 5]\n",
      "start of outer loop\n",
      "current node is [0 6]\n",
      "start of outer loop\n",
      "current node is [0 7]\n",
      "start of outer loop\n",
      "current node is [0 8]\n",
      "start of outer loop\n",
      "current node is [0 9]\n",
      "current node is [1 8]\n",
      "start of outer loop\n",
      "current node is [ 0 10]\n",
      "current node is [2 8]\n",
      "start of outer loop\n",
      "current node is [ 0 11]\n",
      "current node is [ 1 10]\n",
      "current node is [2 7]\n",
      "start of outer loop\n",
      "current node is [ 0 12]\n",
      "current node is [ 2 10]\n",
      "current node is [2 6]\n",
      "start of outer loop\n",
      "current node is [ 1 12]\n",
      "current node is [ 3 10]\n",
      "current node is [3 6]\n",
      "start of outer loop\n",
      "current node is [ 2 12]\n",
      "current node is [ 4 10]\n",
      "current node is [4 6]\n",
      "start of outer loop\n",
      "current node is [ 3 12]\n",
      "current node is [ 5 10]\n",
      "current node is [4 7]\n",
      "current node is [5 6]\n",
      "start of outer loop\n",
      "current node is [ 4 12]\n",
      "current node is [ 6 10]\n",
      "current node is [4 8]\n",
      "current node is [6 6]\n",
      "start of outer loop\n",
      "current node is [ 6 11]\n",
      "current node is [5 8]\n",
      "current node is [6 5]\n",
      "start of outer loop\n",
      "current node is [ 6 12]\n",
      "current node is [6 8]\n",
      "current node is [6 4]\n",
      "start of outer loop\n",
      "current node is [ 7 12]\n",
      "current node is [5 4]\n",
      "start of outer loop\n",
      "current node is [ 8 12]\n",
      "current node is [4 4]\n",
      "start of outer loop\n",
      "current node is [ 8 11]\n",
      "current node is [3 4]\n",
      "start of outer loop\n",
      "current node is [ 8 10]\n",
      "current node is [2 4]\n",
      "start of outer loop\n",
      "current node is [8 9]\n",
      "current node is [2 3]\n",
      "start of outer loop\n",
      "current node is [8 8]\n",
      "current node is [2 2]\n",
      "start of outer loop\n",
      "current node is [9 8]\n",
      "current node is [3 2]\n",
      "start of outer loop\n",
      "current node is [10  8]\n",
      "current node is [4 2]\n",
      "start of outer loop\n",
      "current node is [10  9]\n",
      "current node is [5 2]\n",
      "start of outer loop\n",
      "current node is [10 10]\n",
      "current node is [6 2]\n",
      "start of outer loop\n",
      "current node is [11 10]\n",
      "current node is [6 1]\n",
      "start of outer loop\n",
      "current node is [12 10]\n",
      "current node is [6 0]\n",
      "start of outer loop\n",
      "current node is [12 11]\n",
      "current node is [12  9]\n",
      "current node is [5 0]\n",
      "current node is [7 0]\n",
      "start of outer loop\n",
      "current node is [12 12]\n",
      "current node is [12  8]\n",
      "current node is [4 0]\n",
      "current node is [8 0]\n",
      "start of outer loop\n",
      "current node is [11 12]\n",
      "current node is [12  7]\n",
      "current node is [8 1]\n",
      "current node is [9 0]\n",
      "start of outer loop\n",
      "current node is [10 12]\n",
      "current node is [12  6]\n",
      "current node is [8 2]\n",
      "current node is [10  0]\n",
      "start of outer loop\n",
      "current node is [12  5]\n",
      "current node is [10  1]\n",
      "start of outer loop\n",
      "current node is [12  4]\n",
      "current node is [10  2]\n",
      "start of outer loop\n",
      "current node is [11  4]\n",
      "current node is [11  2]\n",
      "start of outer loop\n",
      "current node is [10  4]\n",
      "current node is [12  2]\n",
      "start of outer loop\n",
      "current node is [9 4]\n",
      "current node is [12  1]\n",
      "start of outer loop\n",
      "current node is [8 4]\n",
      "current node is [12  0]\n",
      "start of outer loop\n",
      "current node is [8 5]\n",
      "start of outer loop\n",
      "current node is [8 6]\n",
      "start of outer loop\n",
      "current node is [9 6]\n",
      "start of outer loop\n",
      "current node is [10  6]\n"
     ]
    }
   ],
   "source": [
    "search(maze)"
   ]
  },
  {
   "cell_type": "code",
   "execution_count": 70,
   "id": "1ce5f180-3338-4549-bda5-83d1d1b59db1",
   "metadata": {},
   "outputs": [
    {
     "data": {
      "text/plain": [
       "[array([0, 1]), array([1, 0])]"
      ]
     },
     "execution_count": 70,
     "metadata": {},
     "output_type": "execute_result"
    }
   ],
   "source": [
    "current_pos = np.array((0, 0))\n",
    "next_moves(maze, current_pos)"
   ]
  },
  {
   "cell_type": "code",
   "execution_count": 68,
   "id": "a2a3d4fd-c6a1-40af-9068-9a0ad04478e5",
   "metadata": {},
   "outputs": [
    {
     "data": {
      "text/plain": [
       "[array([0, 1]), array([1, 0])]"
      ]
     },
     "execution_count": 68,
     "metadata": {},
     "output_type": "execute_result"
    }
   ],
   "source": [
    "legal_moves(maze, current_pos)"
   ]
  },
  {
   "cell_type": "code",
   "execution_count": 21,
   "id": "8da1e109-4b76-4d28-9dfa-7d73848f0918",
   "metadata": {},
   "outputs": [
    {
     "data": {
      "text/plain": [
       "array([[ 1.,  2.,  3.,  4.,  5.,  6.,  7.,  8.,  9., 10., 11., 12., 13.],\n",
       "       [ 2., -1., -1., -1., -1., -1., -1., -1., 10., -1., 12., -1., 14.],\n",
       "       [ 3., -1., 25., 24., 23., -1., 13., 12., 11., -1., 13., -1., 15.],\n",
       "       [-1., -1., 26., -1., 22., -1., 14., -1., -1., -1., 14., -1., 16.],\n",
       "       [33., -1., 27., -1., 21., -1., 15., 16., 17., -1., 15., -1., 17.],\n",
       "       [32., -1., 28., -1., 20., -1., 16., -1., 18., -1., 16., -1., -1.],\n",
       "       [31., 30., 29., -1., 19., 18., 17., -1., 19., -1., 17., 18., 19.],\n",
       "       [32., -1., -1., -1., -1., -1., -1., -1., -1., -1., -1., -1., 20.],\n",
       "       [33., 34., 35., -1., 41., 42., 43., -1., 25., 24., 23., 22., 21.],\n",
       "       [34., -1., -1., -1., 40., -1., 44., -1., 26., -1., -1., -1., -1.],\n",
       "       [35., 36., 37., -1., 39., -1., 45., -1., 27., 28., 29., -1., 35.],\n",
       "       [-1., -1., 38., -1., 38., -1., -1., -1., -1., -1., 30., -1., 34.],\n",
       "       [41., 40., 39., -1., 37., 36., 35., 34., 33., 32., 31., 32., 33.]])"
      ]
     },
     "execution_count": 21,
     "metadata": {},
     "output_type": "execute_result"
    }
   ],
   "source": [
    "maze"
   ]
  },
  {
   "cell_type": "code",
   "execution_count": null,
   "id": "1b963a43-5e9c-406a-9860-33e4b815843a",
   "metadata": {},
   "outputs": [],
   "source": []
  }
 ],
 "metadata": {
  "kernelspec": {
   "display_name": "Python 3 (ipykernel)",
   "language": "python",
   "name": "python3"
  },
  "language_info": {
   "codemirror_mode": {
    "name": "ipython",
    "version": 3
   },
   "file_extension": ".py",
   "mimetype": "text/x-python",
   "name": "python",
   "nbconvert_exporter": "python",
   "pygments_lexer": "ipython3",
   "version": "3.12.4"
  }
 },
 "nbformat": 4,
 "nbformat_minor": 5
}
